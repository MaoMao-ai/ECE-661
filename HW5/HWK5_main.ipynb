{
  "cells": [
    {
      "cell_type": "markdown",
      "metadata": {
        "id": "U-Qo-xSrZ44U"
      },
      "source": [
        "# Homework 5: Adversarial Attacks and Defenses\n",
        "\n",
        "Duke University\n",
        "\n",
        "ECE661 Spring 2025\n",
        "\n",
        "## Setup\n",
        "\n",
        "You shouldn't have to change anything in these cells"
      ]
    },
    {
      "cell_type": "code",
      "execution_count": 1,
      "metadata": {
        "id": "OU1BR-_qZ44V"
      },
      "outputs": [
        {
          "name": "stdout",
          "output_type": "stream",
          "text": [
            "device: cpu\n"
          ]
        }
      ],
      "source": [
        "import torch\n",
        "import torch.nn as nn\n",
        "import torch.nn.functional as F\n",
        "import torch.optim as optim\n",
        "from torchvision import datasets, transforms\n",
        "import matplotlib.pyplot as plt\n",
        "import numpy as np\n",
        "import random\n",
        "\n",
        "# Custom\n",
        "import models\n",
        "import attacks\n",
        "\n",
        "device = \"cuda\" if torch.cuda.is_available() else \"cpu\"\n",
        "print(\"device:\", device)"
      ]
    },
    {
      "cell_type": "code",
      "execution_count": 2,
      "metadata": {
        "id": "Hy-_pJThZ44W"
      },
      "outputs": [],
      "source": [
        "train_loader = torch.utils.data.DataLoader(\n",
        "    datasets.FashionMNIST('./data', train=True, download=True, transform=transforms.ToTensor()),\n",
        "    batch_size = 64, shuffle=True, )\n",
        "test_loader = torch.utils.data.DataLoader(\n",
        "    datasets.FashionMNIST('./data', train=False, download=True, transform=transforms.ToTensor()),\n",
        "    batch_size = 64, shuffle=False, )"
      ]
    },
    {
      "cell_type": "code",
      "execution_count": 3,
      "metadata": {
        "id": "usLPfNdZZ44X"
      },
      "outputs": [],
      "source": [
        "def test_model(mdl, loader, device):\n",
        "    mdl.eval()\n",
        "    running_correct = 0.\n",
        "    running_loss = 0.\n",
        "    running_total = 0.\n",
        "    with torch.no_grad():\n",
        "        for batch_idx,(data,labels) in enumerate(loader):\n",
        "            data = data.to(device); labels = labels.to(device)\n",
        "            clean_outputs = mdl(data)\n",
        "            clean_loss = F.cross_entropy(clean_outputs, labels)\n",
        "            _,clean_preds = clean_outputs.max(1)\n",
        "            running_correct += clean_preds.eq(labels).sum().item()\n",
        "            running_loss += clean_loss.item()\n",
        "            running_total += labels.size(0)\n",
        "    clean_acc = running_correct/running_total\n",
        "    clean_loss = running_loss/len(loader)\n",
        "    mdl.train()\n",
        "    return clean_acc,clean_loss"
      ]
    },
    {
      "cell_type": "markdown",
      "metadata": {
        "id": "26MA6JP8Z44X"
      },
      "source": [
        "## Model training\n",
        "\n",
        "Train a model and save the checkpoint. This cell is used in Lab-1 and Lab-3"
      ]
    },
    {
      "cell_type": "code",
      "execution_count": 5,
      "metadata": {
        "id": "SebnoQYDZ44X"
      },
      "outputs": [
        {
          "name": "stdout",
          "output_type": "stream",
          "text": [
            "Epoch: [ 0 / 20 ]; TrainAcc: 0.84265; TrainLoss: 0.43202; TestAcc: 0.88980; TestLoss: 0.31422\n",
            "Epoch: [ 1 / 20 ]; TrainAcc: 0.90407; TrainLoss: 0.26506; TestAcc: 0.90630; TestLoss: 0.26062\n",
            "Epoch: [ 2 / 20 ]; TrainAcc: 0.91997; TrainLoss: 0.22207; TestAcc: 0.91070; TestLoss: 0.24352\n",
            "Epoch: [ 3 / 20 ]; TrainAcc: 0.92898; TrainLoss: 0.19597; TestAcc: 0.91450; TestLoss: 0.24511\n",
            "Epoch: [ 4 / 20 ]; TrainAcc: 0.93623; TrainLoss: 0.17453; TestAcc: 0.91230; TestLoss: 0.24796\n",
            "Epoch: [ 5 / 20 ]; TrainAcc: 0.94280; TrainLoss: 0.15633; TestAcc: 0.92320; TestLoss: 0.22739\n",
            "Epoch: [ 6 / 20 ]; TrainAcc: 0.94965; TrainLoss: 0.13944; TestAcc: 0.92080; TestLoss: 0.23968\n",
            "Epoch: [ 7 / 20 ]; TrainAcc: 0.95440; TrainLoss: 0.12574; TestAcc: 0.92130; TestLoss: 0.25455\n",
            "Epoch: [ 8 / 20 ]; TrainAcc: 0.95910; TrainLoss: 0.11221; TestAcc: 0.91980; TestLoss: 0.26398\n",
            "Epoch: [ 9 / 20 ]; TrainAcc: 0.96448; TrainLoss: 0.09790; TestAcc: 0.92020; TestLoss: 0.26387\n",
            "Epoch: [ 10 / 20 ]; TrainAcc: 0.96708; TrainLoss: 0.08961; TestAcc: 0.92340; TestLoss: 0.29850\n",
            "Epoch: [ 11 / 20 ]; TrainAcc: 0.97030; TrainLoss: 0.08029; TestAcc: 0.91650; TestLoss: 0.32137\n",
            "Epoch: [ 12 / 20 ]; TrainAcc: 0.97467; TrainLoss: 0.06886; TestAcc: 0.91400; TestLoss: 0.34751\n",
            "Epoch: [ 13 / 20 ]; TrainAcc: 0.97635; TrainLoss: 0.06434; TestAcc: 0.91490; TestLoss: 0.34578\n",
            "Epoch: [ 14 / 20 ]; TrainAcc: 0.97695; TrainLoss: 0.06170; TestAcc: 0.91500; TestLoss: 0.35666\n",
            "Epoch: [ 15 / 20 ]; TrainAcc: 0.98118; TrainLoss: 0.05092; TestAcc: 0.91670; TestLoss: 0.38712\n",
            "Epoch: [ 16 / 20 ]; TrainAcc: 0.99428; TrainLoss: 0.01735; TestAcc: 0.92490; TestLoss: 0.39040\n",
            "Epoch: [ 17 / 20 ]; TrainAcc: 0.99830; TrainLoss: 0.00770; TestAcc: 0.92460; TestLoss: 0.42444\n",
            "Epoch: [ 18 / 20 ]; TrainAcc: 0.99935; TrainLoss: 0.00446; TestAcc: 0.92410; TestLoss: 0.45418\n",
            "Epoch: [ 19 / 20 ]; TrainAcc: 0.99973; TrainLoss: 0.00271; TestAcc: 0.92520; TestLoss: 0.49095\n",
            "Done!\n"
          ]
        }
      ],
      "source": [
        "## Pick a model architecture\n",
        "#net = models.NetA().to(device)\n",
        "net = models.NetB().to(device)\n",
        "\n",
        "## Checkpoint name for this model\n",
        "#model_checkpoint = \"netA_standard.pt\"\n",
        "model_checkpoint = \"netB_standard.pt\"\n",
        "\n",
        "## Basic training params\n",
        "num_epochs = 20\n",
        "initial_lr = 0.001\n",
        "lr_decay_epoch = 15\n",
        "\n",
        "optimizer = torch.optim.Adam(net.parameters(), lr=initial_lr)\n",
        "\n",
        "## Training Loop\n",
        "for epoch in range(num_epochs):\n",
        "    net.train()\n",
        "    train_correct = 0.\n",
        "    train_loss = 0.\n",
        "    train_total = 0.\n",
        "    for batch_idx,(data,labels) in enumerate(train_loader):\n",
        "        data = data.to(device); labels = labels.to(device)\n",
        "\n",
        "        # Forward pass\n",
        "        outputs = net(data)\n",
        "        net.zero_grad()\n",
        "        optimizer.zero_grad()\n",
        "        # Compute loss, gradients, and update params\n",
        "        loss = F.cross_entropy(outputs, labels)\n",
        "        loss.backward()\n",
        "        optimizer.step()\n",
        "        # Update stats\n",
        "        _,preds = outputs.max(1)\n",
        "        train_correct += preds.eq(labels).sum().item()\n",
        "        train_loss += loss.item()\n",
        "        train_total += labels.size(0)\n",
        "\n",
        "    # End of training epoch\n",
        "    test_acc,test_loss = test_model(net,test_loader,device)\n",
        "    print(\"Epoch: [ {} / {} ]; TrainAcc: {:.5f}; TrainLoss: {:.5f}; TestAcc: {:.5f}; TestLoss: {:.5f}\".format(\n",
        "        epoch, num_epochs, train_correct/train_total, train_loss/len(train_loader),\n",
        "        test_acc, test_loss,\n",
        "    ))\n",
        "    # Save model\n",
        "    torch.save(net.state_dict(), model_checkpoint)\n",
        "\n",
        "    # Update LR\n",
        "    if epoch == lr_decay_epoch:\n",
        "        for param_group in optimizer.param_groups:\n",
        "            param_group['lr'] = initial_lr*0.1\n",
        "\n",
        "print(\"Done!\")"
      ]
    },
    {
      "cell_type": "markdown",
      "metadata": {
        "id": "EeHizkFTZ44X"
      },
      "source": [
        "**Visualize some perturbed samples**"
      ]
    },
    {
      "cell_type": "code",
      "execution_count": 21,
      "metadata": {
        "id": "rxkDzHW_Z44X"
      },
      "outputs": [
        {
          "data": {
            "image/png": "[encoded data removed]",
            "text/plain": [
              "<Figure size 1500x500 with 12 Axes>"
            ]
          },
          "metadata": {},
          "output_type": "display_data"
        }
      ],
      "source": [
        "classes = [\"t-shirt\", \"trouser\",\"pullover\",\"dress\",\"coat\",\"sandal\",\"shirt\",\"sneaker\",\"bag\",\"boot\"]\n",
        "net = models.NetA().to(device)\n",
        "net.load_state_dict(torch.load(\"netA_standard.pt\"))\n",
        "for data,labels in test_loader:\n",
        "        data = data.to(device); labels = labels.to(device)\n",
        "\n",
        "        ###\n",
        "        # Compute and apply adversarial perturbation to data\n",
        "        EPS= 0.1\n",
        "        ITS= 10\n",
        "        ALP = 1.85*(EPS/ITS)\n",
        "\n",
        "        ###\n",
        "        #adv_data = attacks.PGD_attack(model=net, device=device, dat=data, lbl=labels, eps=EPS, alpha=ALP, iters=ITS, rand_start=True)\n",
        "        #adv_data = attacks.FGSM_attack(net, device, data, labels, eps=EPS)\n",
        "        adv_data = attacks.rFGSM_attack(net, device, data, labels, eps=EPS)\n",
        "        # Compute preds\n",
        "        with torch.no_grad():\n",
        "            clean_outputs = net(data)\n",
        "            _,clean_preds = clean_outputs.max(1)\n",
        "            clean_preds = clean_preds.cpu().squeeze().numpy()\n",
        "            adv_outputs = net(adv_data)\n",
        "            _,adv_preds = adv_outputs.max(1)\n",
        "            adv_preds = adv_preds.cpu().squeeze().numpy()\n",
        "        \n",
        "        # Plot some samples\n",
        "        inds = random.sample(list(range(data.size(0))),6)\n",
        "        plt.figure(figsize=(15,5))\n",
        "        for jj in range(6):\n",
        "            plt.subplot(2,6,jj+1);plt.imshow(data[inds[jj],0].cpu().numpy(),cmap='gray');plt.axis(\"off\");\n",
        "            plt.title(\"clean. pred={}\".format(classes[clean_preds[inds[jj]]]))\n",
        "        for jj in range(6):\n",
        "            plt.subplot(2,6,6+jj+1);plt.imshow(adv_data[inds[jj],0].cpu().numpy(),cmap='gray');plt.axis(\"off\");\n",
        "            plt.title(\"adv. pred={}\".format(classes[adv_preds[inds[jj]]]))\n",
        "        plt.tight_layout()\n",
        "        plt.show()\n",
        "\n",
        "\n",
        "        break"
      ]
    },
    {
      "cell_type": "markdown",
      "metadata": {
        "id": "YogQC1PVZ44Y"
      },
      "source": [
        "## Test Attacks - Whitebox & Blackbox\n",
        "\n",
        "Don't forget to plot accuracy vs. epsilon curves!"
      ]
    },
    {
      "cell_type": "code",
      "execution_count": null,
      "metadata": {
        "id": "Ebohv0W8Z44Y"
      },
      "outputs": [],
      "source": [
        "## Load pretrained models\n",
        "whitebox = models.NetA()\n",
        "blackbox = models.NetB()\n",
        "\n",
        "whitebox.load_state_dict(torch.load()) # TODO\n",
        "blackbox.load_state_dict(torch.load()) # TODO\n",
        "\n",
        "whitebox = whitebox.to(device); blackbox = blackbox.to(device)\n",
        "whitebox.eval(); blackbox.eval()\n",
        "\n",
        "test_acc,_ = test_model(whitebox,test_loader,device)\n",
        "print(\"Initial Accuracy of Whitebox Model: \",test_acc)\n",
        "test_acc,_ = test_model(blackbox,test_loader,device)\n",
        "print(\"Initial Accuracy of Blackbox Model: \",test_acc)\n",
        "\n",
        "## Test the models against an adversarial attack\n",
        "\n",
        "# TODO: Set attack parameters here\n",
        "#ATK_EPS = ?\n",
        "#ATK_ITERS = ?\n",
        "#ATK_ALPHA = ?\n",
        "\n",
        "whitebox_correct = 0.\n",
        "blackbox_correct = 0.\n",
        "running_total = 0.\n",
        "for batch_idx,(data,labels) in enumerate(test_loader):\n",
        "    data = data.to(device)\n",
        "    labels = labels.to(device)\n",
        "\n",
        "    # TODO: Perform adversarial attack here\n",
        "\n",
        "    # Sanity checking if adversarial example is \"legal\"\n",
        "    assert(torch.max(torch.abs(adv_data-data)) <= (ATK_EPS + 1e-5) )\n",
        "    assert(adv_data.max() == 1.)\n",
        "    assert(adv_data.min() == 0.)\n",
        "\n",
        "    # Compute accuracy on perturbed data\n",
        "    with torch.no_grad():\n",
        "        # Stat keeping - whitebox\n",
        "        whitebox_outputs = whitebox(adv_data)\n",
        "        _,whitebox_preds = whitebox_outputs.max(1)\n",
        "        whitebox_correct += whitebox_preds.eq(labels).sum().item()\n",
        "        # Stat keeping - blackbox\n",
        "        blackbox_outputs = blackbox(adv_data)\n",
        "        _,blackbox_preds = blackbox_outputs.max(1)\n",
        "        blackbox_correct += blackbox_preds.eq(labels).sum().item()\n",
        "        running_total += labels.size(0)\n",
        "\n",
        "    # Plot some samples\n",
        "    if batch_idx == 1:\n",
        "        plt.figure(figsize=(15,5))\n",
        "        for jj in range(12):\n",
        "            plt.subplot(2,6,jj+1);plt.imshow(adv_data[jj,0].cpu().numpy(),cmap='gray');plt.axis(\"off\")\n",
        "        plt.tight_layout()\n",
        "        plt.show()\n",
        "\n",
        "# Print final\n",
        "whitebox_acc = whitebox_correct/running_total\n",
        "blackbox_acc = blackbox_correct/running_total\n",
        "\n",
        "print(\"Attack Epsilon: {}; Whitebox Accuracy: {}; Blackbox Accuracy: {}\".format(ATK_EPS, whitebox_acc, blackbox_acc))\n",
        "\n",
        "print(\"Done!\")"
      ]
    },
    {
      "cell_type": "markdown",
      "metadata": {
        "id": "2E4E8HIQZ44Y"
      },
      "source": [
        "## Test Robust Models\n",
        "\n",
        "Don't forget to plot accuracy vs. epsilon curves!"
      ]
    },
    {
      "cell_type": "code",
      "execution_count": null,
      "metadata": {
        "id": "9UmCCNnjZ44Y"
      },
      "outputs": [],
      "source": [
        "whitebox = models.NetA()\n",
        "whitebox.load_state_dict(torch.load()) # TODO: Load your robust models\n",
        "whitebox = whitebox.to(device)\n",
        "whitebox.eval();\n",
        "\n",
        "test_acc,_ = test_model(whitebox,test_loader,device)\n",
        "print(\"Initial Accuracy of Whitebox Model: \",test_acc)\n",
        "\n",
        "## Test the model against an adversarial attack\n",
        "\n",
        "# TODO: Set attack parameters here\n",
        "#ATK_EPS = ?\n",
        "#ATK_ITERS = ?\n",
        "#ATK_ALPHA = ?\n",
        "\n",
        "whitebox_correct = 0.\n",
        "running_total = 0.\n",
        "for batch_idx,(data,labels) in enumerate(test_loader):\n",
        "    data = data.to(device)\n",
        "    labels = labels.to(device)\n",
        "\n",
        "    # TODO: Perform adversarial attack here\n",
        "\n",
        "    # Sanity checking if adversarial example is \"legal\"\n",
        "    assert(torch.max(torch.abs(adv_data-data)) <= (ATK_EPS + 1e-5) )\n",
        "    assert(adv_data.max() == 1.)\n",
        "    assert(adv_data.min() == 0.)\n",
        "\n",
        "    # Compute accuracy on perturbed data\n",
        "    with torch.no_grad():\n",
        "        whitebox_outputs = whitebox(adv_data)\n",
        "        _,whitebox_preds = whitebox_outputs.max(1)\n",
        "        whitebox_correct += whitebox_preds.eq(labels).sum().item()\n",
        "        running_total += labels.size(0)\n",
        "\n",
        "    # Plot some samples\n",
        "    if batch_idx == 1:\n",
        "        plt.figure(figsize=(15,5))\n",
        "        for jj in range(12):\n",
        "            plt.subplot(2,6,jj+1);plt.imshow(adv_data[jj,0].cpu().numpy(),cmap='gray');plt.axis(\"off\")\n",
        "        plt.tight_layout()\n",
        "        plt.show()\n",
        "\n",
        "# Print final\n",
        "whitebox_acc = whitebox_correct/running_total\n",
        "print(\"Attack Epsilon: {}; Whitebox Accuracy: {}\".format(ATK_EPS, whitebox_acc))\n",
        "\n",
        "print(\"Done!\")"
      ]
    },
    {
      "cell_type": "code",
      "execution_count": null,
      "metadata": {
        "id": "JVoU3VEkZ44Y"
      },
      "outputs": [],
      "source": []
    }
  ],
  "metadata": {
    "colab": {
      "provenance": []
    },
    "kernelspec": {
      "display_name": "Python 3",
      "language": "python",
      "name": "python3"
    },
    "language_info": {
      "codemirror_mode": {
        "name": "ipython",
        "version": 3
      },
      "file_extension": ".py",
      "mimetype": "text/x-python",
      "name": "python",
      "nbconvert_exporter": "python",
      "pygments_lexer": "ipython3",
      "version": "3.12.0"
    }
  },
  "nbformat": 4,
  "nbformat_minor": 0
}
