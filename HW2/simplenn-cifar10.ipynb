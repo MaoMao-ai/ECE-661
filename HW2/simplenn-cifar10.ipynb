{
 "cells": [
  {
   "cell_type": "markdown",
   "metadata": {},
   "source": [
    "# Training SimpleNN on CIFAR-10\n",
    "In this project, you will use the SimpleNN model to perform image classification on CIFAR-10. CIFAR-10 orginally contains 60K images from 10 categories. We split it into 45K/5K/10K images to serve as train/valiation/test set. We only release the ground-truth labels of training/validation dataset to you."
   ]
  },
  {
   "cell_type": "markdown",
   "metadata": {},
   "source": [
    "## Step 0: Set up the SimpleNN model\n",
    "As you have practiced to implement simple neural networks in Homework 1, we just prepare the implementation for you."
   ]
  },
  {
   "cell_type": "code",
   "metadata": {
    "ExecuteTime": {
     "end_time": "2025-02-15T20:52:32.668426Z",
     "start_time": "2025-02-15T20:52:31.833502Z"
    }
   },
   "source": [
    "# import necessary dependencies\n",
    "import argparse\n",
    "import os, sys\n",
    "import time\n",
    "import datetime\n",
    "from random import random\n",
    "\n",
    "from tqdm import tqdm_notebook as tqdm\n",
    "\n",
    "import torch\n",
    "import torch.nn as nn\n",
    "import torch.nn.functional as F"
   ],
   "outputs": [],
   "execution_count": 1
  },
  {
   "cell_type": "code",
   "metadata": {
    "ExecuteTime": {
     "end_time": "2025-02-15T20:52:34.100306Z",
     "start_time": "2025-02-15T20:52:34.095429Z"
    }
   },
   "source": [
    "# define the SimpleNN mode;\n",
    "class SimpleNN(nn.Module):\n",
    "    def __init__(self):\n",
    "        super(SimpleNN, self).__init__()\n",
    "        self.conv1 = nn.Conv2d(3, 8, 5)\n",
    "        self.conv2 = nn.Conv2d(8, 16, 3)\n",
    "        self.fc1   = nn.Linear(16*6*6, 120)\n",
    "        self.fc2   = nn.Linear(120, 84)\n",
    "        self.fc3   = nn.Linear(84, 10)\n",
    "\n",
    "    def forward(self, x):\n",
    "        out = F.relu(self.conv1(x))\n",
    "        out = F.max_pool2d(out, 2)\n",
    "        out = F.relu(self.conv2(out))\n",
    "        out = F.max_pool2d(out, 2)\n",
    "        out = out.view(out.size(0), -1)\n",
    "        out = F.relu(self.fc1(out))\n",
    "        out = F.relu(self.fc2(out))\n",
    "        out = self.fc3(out)\n",
    "        return out"
   ],
   "outputs": [],
   "execution_count": 2
  },
  {
   "cell_type": "markdown",
   "metadata": {},
   "source": [
    "### Question (a)\n",
    "Here is a sanity check to verify the implementation of SimpleNN. \n",
    "You need to:\n",
    "1. Write down your code.\n",
    "2. **In the PDF report**, give a brief description on how the code helps you know that SimpleNN is implemented correctly."
   ]
  },
  {
   "cell_type": "code",
   "metadata": {
    "ExecuteTime": {
     "end_time": "2025-02-15T21:12:20.562280Z",
     "start_time": "2025-02-15T21:12:20.501548Z"
    }
   },
   "source": [
    "#############################################\n",
    "# your code here\n",
    "# sanity check for the correctness of SimpleNN\n",
    "model = SimpleNN()\n",
    "\n",
    "random_input = torch.randn(2,3,32,32)\n",
    "out = model(random_input)\n",
    "print(f'Output shape: {out.shape}')\n",
    "\n",
    "\n",
    "total_params = sum(p.numel() for p in model.parameters() if p.requires_grad)\n",
    "print(f\"Total number of parameters of all CONV/FC layers: {total_params}\")\n",
    "\n",
    "\n",
    "#############################################"
   ],
   "outputs": [
    {
     "name": "stdout",
     "output_type": "stream",
     "text": [
      "Output shape: torch.Size([2, 10])\n",
      "Total number of parameters of all CONV/FC layers: 82030\n"
     ]
    }
   ],
   "execution_count": 6
  },
  {
   "cell_type": "markdown",
   "metadata": {},
   "source": [
    "## Step 1: Set up preprocessing functions\n",
    "Preprocessing is very important as discussed in the lecture.\n",
    "You will need to write preprocessing functions with the help of *torchvision.transforms* in this step.\n",
    "You can find helpful tutorial/API at [here](https://pytorch.org/vision/stable/transforms.html)."
   ]
  },
  {
   "cell_type": "markdown",
   "metadata": {},
   "source": [
    "### Question (b)\n",
    "For the question, you need to:\n",
    "1. Complete the preprocessing code below.\n",
    "2. **In the PDF report**, briefly describe what preprocessing operations you used and what are the purposes of them.\n",
    "\n",
    "Hint: \n",
    "1. Only two operations are necessary to complete the basic preprocessing here.\n",
    "2. The raw input read from the dataset will be PIL images.\n",
    "3. Data augmentation operations are not mendatory, but feel free to incorporate them if you want.\n",
    "4. Reference value for mean/std of CIFAR-10 images (assuming the pixel values are within [0,1]): mean (RGB-format): (0.4914, 0.4822, 0.4465), std (RGB-format): (0.2023, 0.1994, 0.2010)"
   ]
  },
  {
   "cell_type": "code",
   "metadata": {
    "ExecuteTime": {
     "end_time": "2025-02-15T21:54:57.239073Z",
     "start_time": "2025-02-15T21:54:57.175915Z"
    }
   },
   "source": [
    "# useful libraries\n",
    "#############################################\n",
    "# your code here\n",
    "# specify preprocessing function\n",
    "import torchvision\n",
    "import torchvision.transforms as transforms\n",
    "\n",
    "transform_train = transforms.Compose([\n",
    "    transforms.RandomResizedCrop(size=32, scale=(0.8, 1.0)),\n",
    "    transforms.RandomRotation(degrees=15),\n",
    "    transforms.ColorJitter(brightness=0.2, contrast=0.2, saturation=0.2, hue=0.1),\n",
    "    transforms.RandomHorizontalFlip(p=0.5), \n",
    "    transforms.RandomVerticalFlip(p=0.1),\n",
    "    transforms.ToTensor(),  \n",
    "    transforms.Normalize(mean=(0.4914, 0.4822, 0.4465), std=(0.2023, 0.1994, 0.2010)), \n",
    "])\n",
    "\n",
    "transform_val = transforms.Compose([\n",
    "    transforms.Resize(36), \n",
    "    transforms.CenterCrop(32), \n",
    "    transforms.ToTensor(),  \n",
    "    transforms.Normalize(mean=(0.4914, 0.4822, 0.4465), std=(0.2023, 0.1994, 0.2010)),\n",
    "])\n",
    "\n",
    "#############################################"
   ],
   "outputs": [
    {
     "ename": "AttributeError",
     "evalue": "partially initialized module 'torchvision' has no attribute 'extension' (most likely due to a circular import)",
     "output_type": "error",
     "traceback": [
      "\u001B[0;31m---------------------------------------------------------------------------\u001B[0m",
      "\u001B[0;31mAttributeError\u001B[0m                            Traceback (most recent call last)",
      "Cell \u001B[0;32mIn[10], line 5\u001B[0m\n\u001B[1;32m      1\u001B[0m \u001B[38;5;66;03m# useful libraries\u001B[39;00m\n\u001B[1;32m      2\u001B[0m \u001B[38;5;66;03m#############################################\u001B[39;00m\n\u001B[1;32m      3\u001B[0m \u001B[38;5;66;03m# your code here\u001B[39;00m\n\u001B[1;32m      4\u001B[0m \u001B[38;5;66;03m# specify preprocessing function\u001B[39;00m\n\u001B[0;32m----> 5\u001B[0m \u001B[38;5;28;01mimport\u001B[39;00m \u001B[38;5;21;01mtorchvision\u001B[39;00m\n\u001B[1;32m      6\u001B[0m \u001B[38;5;28;01mimport\u001B[39;00m \u001B[38;5;21;01mtorchvision\u001B[39;00m\u001B[38;5;21;01m.\u001B[39;00m\u001B[38;5;21;01mtransforms\u001B[39;00m \u001B[38;5;28;01mas\u001B[39;00m \u001B[38;5;21;01mtransforms\u001B[39;00m\n\u001B[1;32m      8\u001B[0m transform_train \u001B[38;5;241m=\u001B[39m transforms\u001B[38;5;241m.\u001B[39mCompose([\n\u001B[1;32m      9\u001B[0m     transforms\u001B[38;5;241m.\u001B[39mRandomResizedCrop(size\u001B[38;5;241m=\u001B[39m\u001B[38;5;241m32\u001B[39m, scale\u001B[38;5;241m=\u001B[39m(\u001B[38;5;241m0.8\u001B[39m, \u001B[38;5;241m1.0\u001B[39m)),\n\u001B[1;32m     10\u001B[0m     transforms\u001B[38;5;241m.\u001B[39mRandomRotation(degrees\u001B[38;5;241m=\u001B[39m\u001B[38;5;241m15\u001B[39m),\n\u001B[0;32m   (...)\u001B[0m\n\u001B[1;32m     15\u001B[0m     transforms\u001B[38;5;241m.\u001B[39mNormalize(mean\u001B[38;5;241m=\u001B[39m(\u001B[38;5;241m0.4914\u001B[39m, \u001B[38;5;241m0.4822\u001B[39m, \u001B[38;5;241m0.4465\u001B[39m), std\u001B[38;5;241m=\u001B[39m(\u001B[38;5;241m0.2023\u001B[39m, \u001B[38;5;241m0.1994\u001B[39m, \u001B[38;5;241m0.2010\u001B[39m)), \n\u001B[1;32m     16\u001B[0m ])\n",
      "File \u001B[0;32m/opt/anaconda3/envs/Chatgpt/lib/python3.12/site-packages/torchvision/__init__.py:10\u001B[0m\n\u001B[1;32m      7\u001B[0m \u001B[38;5;66;03m# Don't re-order these, we need to load the _C extension (done when importing\u001B[39;00m\n\u001B[1;32m      8\u001B[0m \u001B[38;5;66;03m# .extensions) before entering _meta_registrations.\u001B[39;00m\n\u001B[1;32m      9\u001B[0m \u001B[38;5;28;01mfrom\u001B[39;00m \u001B[38;5;21;01m.\u001B[39;00m\u001B[38;5;21;01mextension\u001B[39;00m \u001B[38;5;28;01mimport\u001B[39;00m _HAS_OPS  \u001B[38;5;66;03m# usort:skip\u001B[39;00m\n\u001B[0;32m---> 10\u001B[0m \u001B[38;5;28;01mfrom\u001B[39;00m \u001B[38;5;21;01mtorchvision\u001B[39;00m \u001B[38;5;28;01mimport\u001B[39;00m _meta_registrations, datasets, io, models, ops, transforms, utils  \u001B[38;5;66;03m# usort:skip\u001B[39;00m\n\u001B[1;32m     12\u001B[0m \u001B[38;5;28;01mtry\u001B[39;00m:\n\u001B[1;32m     13\u001B[0m     \u001B[38;5;28;01mfrom\u001B[39;00m \u001B[38;5;21;01m.\u001B[39;00m\u001B[38;5;21;01mversion\u001B[39;00m \u001B[38;5;28;01mimport\u001B[39;00m __version__  \u001B[38;5;66;03m# noqa: F401\u001B[39;00m\n",
      "File \u001B[0;32m/opt/anaconda3/envs/Chatgpt/lib/python3.12/site-packages/torchvision/_meta_registrations.py:25\u001B[0m\n\u001B[1;32m     20\u001B[0m         \u001B[38;5;28;01mreturn\u001B[39;00m fn\n\u001B[1;32m     22\u001B[0m     \u001B[38;5;28;01mreturn\u001B[39;00m wrapper\n\u001B[0;32m---> 25\u001B[0m \u001B[38;5;129;43m@register_meta\u001B[39;49m\u001B[43m(\u001B[49m\u001B[38;5;124;43m\"\u001B[39;49m\u001B[38;5;124;43mroi_align\u001B[39;49m\u001B[38;5;124;43m\"\u001B[39;49m\u001B[43m)\u001B[49m\n\u001B[1;32m     26\u001B[0m \u001B[38;5;28;43;01mdef\u001B[39;49;00m\u001B[43m \u001B[49m\u001B[38;5;21;43mmeta_roi_align\u001B[39;49m\u001B[43m(\u001B[49m\u001B[38;5;28;43minput\u001B[39;49m\u001B[43m,\u001B[49m\u001B[43m \u001B[49m\u001B[43mrois\u001B[49m\u001B[43m,\u001B[49m\u001B[43m \u001B[49m\u001B[43mspatial_scale\u001B[49m\u001B[43m,\u001B[49m\u001B[43m \u001B[49m\u001B[43mpooled_height\u001B[49m\u001B[43m,\u001B[49m\u001B[43m \u001B[49m\u001B[43mpooled_width\u001B[49m\u001B[43m,\u001B[49m\u001B[43m \u001B[49m\u001B[43msampling_ratio\u001B[49m\u001B[43m,\u001B[49m\u001B[43m \u001B[49m\u001B[43maligned\u001B[49m\u001B[43m)\u001B[49m\u001B[43m:\u001B[49m\n\u001B[1;32m     27\u001B[0m \u001B[43m    \u001B[49m\u001B[43mtorch\u001B[49m\u001B[38;5;241;43m.\u001B[39;49m\u001B[43m_check\u001B[49m\u001B[43m(\u001B[49m\u001B[43mrois\u001B[49m\u001B[38;5;241;43m.\u001B[39;49m\u001B[43msize\u001B[49m\u001B[43m(\u001B[49m\u001B[38;5;241;43m1\u001B[39;49m\u001B[43m)\u001B[49m\u001B[43m \u001B[49m\u001B[38;5;241;43m==\u001B[39;49m\u001B[43m \u001B[49m\u001B[38;5;241;43m5\u001B[39;49m\u001B[43m,\u001B[49m\u001B[43m \u001B[49m\u001B[38;5;28;43;01mlambda\u001B[39;49;00m\u001B[43m:\u001B[49m\u001B[43m \u001B[49m\u001B[38;5;124;43m\"\u001B[39;49m\u001B[38;5;124;43mrois must have shape as Tensor[K, 5]\u001B[39;49m\u001B[38;5;124;43m\"\u001B[39;49m\u001B[43m)\u001B[49m\n\u001B[1;32m     28\u001B[0m \u001B[43m    \u001B[49m\u001B[43mtorch\u001B[49m\u001B[38;5;241;43m.\u001B[39;49m\u001B[43m_check\u001B[49m\u001B[43m(\u001B[49m\n\u001B[1;32m     29\u001B[0m \u001B[43m        \u001B[49m\u001B[38;5;28;43minput\u001B[39;49m\u001B[38;5;241;43m.\u001B[39;49m\u001B[43mdtype\u001B[49m\u001B[43m \u001B[49m\u001B[38;5;241;43m==\u001B[39;49m\u001B[43m \u001B[49m\u001B[43mrois\u001B[49m\u001B[38;5;241;43m.\u001B[39;49m\u001B[43mdtype\u001B[49m\u001B[43m,\u001B[49m\n\u001B[1;32m     30\u001B[0m \u001B[43m        \u001B[49m\u001B[38;5;28;43;01mlambda\u001B[39;49;00m\u001B[43m:\u001B[49m\u001B[43m \u001B[49m\u001B[43m(\u001B[49m\n\u001B[0;32m   (...)\u001B[0m\n\u001B[1;32m     33\u001B[0m \u001B[43m        \u001B[49m\u001B[43m)\u001B[49m\u001B[43m,\u001B[49m\n\u001B[1;32m     34\u001B[0m \u001B[43m    \u001B[49m\u001B[43m)\u001B[49m\n",
      "File \u001B[0;32m/opt/anaconda3/envs/Chatgpt/lib/python3.12/site-packages/torchvision/_meta_registrations.py:18\u001B[0m, in \u001B[0;36mregister_meta.<locals>.wrapper\u001B[0;34m(fn)\u001B[0m\n\u001B[1;32m     17\u001B[0m \u001B[38;5;28;01mdef\u001B[39;00m \u001B[38;5;21mwrapper\u001B[39m(fn):\n\u001B[0;32m---> 18\u001B[0m     \u001B[38;5;28;01mif\u001B[39;00m \u001B[43mtorchvision\u001B[49m\u001B[38;5;241;43m.\u001B[39;49m\u001B[43mextension\u001B[49m\u001B[38;5;241m.\u001B[39m_has_ops():\n\u001B[1;32m     19\u001B[0m         get_meta_lib()\u001B[38;5;241m.\u001B[39mimpl(\u001B[38;5;28mgetattr\u001B[39m(\u001B[38;5;28mgetattr\u001B[39m(torch\u001B[38;5;241m.\u001B[39mops\u001B[38;5;241m.\u001B[39mtorchvision, op_name), overload_name), fn)\n\u001B[1;32m     20\u001B[0m     \u001B[38;5;28;01mreturn\u001B[39;00m fn\n",
      "\u001B[0;31mAttributeError\u001B[0m: partially initialized module 'torchvision' has no attribute 'extension' (most likely due to a circular import)"
     ]
    }
   ],
   "execution_count": 10
  },
  {
   "cell_type": "markdown",
   "metadata": {},
   "source": [
    "## Step 2: Set up dataset and dataloader\n",
    "\n",
    "### Question (c)\n",
    "Set up the train/val datasets and dataloders that are to be used during the training. Check out the [official API](https://pytorch.org/docs/stable/data.html) for more information about **torch.utils.data.DataLoader**.\n",
    "\n",
    "Here, you need to:\n",
    "1. Complete the code below."
   ]
  },
  {
   "cell_type": "code",
   "metadata": {
    "ExecuteTime": {
     "end_time": "2025-02-15T21:54:51.235038Z",
     "start_time": "2025-02-15T21:54:51.072927Z"
    }
   },
   "source": [
    "# do NOT change these\n",
    "from tools.dataset import CIFAR10\n",
    "from torch.utils.data import DataLoader\n",
    "\n",
    "# a few arguments, do NOT change these\n",
    "DATA_ROOT = \"./data\"\n",
    "TRAIN_BATCH_SIZE = 128\n",
    "VAL_BATCH_SIZE = 100\n",
    "\n",
    "#############################################\n",
    "# your code here\n",
    "# construct dataset\n",
    "train_set = CIFAR10(\n",
    "    root=DATA_ROOT, \n",
    "    mode='train', \n",
    "    download=True,\n",
    "    transform=transform_train    # your code\n",
    ")\n",
    "val_set = CIFAR10(\n",
    "    root=DATA_ROOT, \n",
    "    mode='val', \n",
    "    download=True,\n",
    "    transform=transform_val    # your code\n",
    ")\n",
    "\n",
    "# construct dataloader\n",
    "train_loader = DataLoader(\n",
    "    train_set, \n",
    "    batch_size=TRAIN_BATCH_SIZE,  # your code\n",
    "    shuffle=True,     # your code\n",
    "    num_workers=4\n",
    ")\n",
    "val_loader = DataLoader(\n",
    "    val_set, \n",
    "    batch_size=VAL_BATCH_SIZE,  # your code\n",
    "    shuffle=False,     # your code\n",
    "    num_workers=4\n",
    ")\n",
    "#############################################"
   ],
   "outputs": [
    {
     "ename": "NameError",
     "evalue": "name 'transform_train' is not defined",
     "output_type": "error",
     "traceback": [
      "\u001B[0;31m---------------------------------------------------------------------------\u001B[0m",
      "\u001B[0;31mNameError\u001B[0m                                 Traceback (most recent call last)",
      "Cell \u001B[0;32mIn[9], line 17\u001B[0m\n\u001B[1;32m      8\u001B[0m VAL_BATCH_SIZE \u001B[38;5;241m=\u001B[39m \u001B[38;5;241m100\u001B[39m\n\u001B[1;32m     10\u001B[0m \u001B[38;5;66;03m#############################################\u001B[39;00m\n\u001B[1;32m     11\u001B[0m \u001B[38;5;66;03m# your code here\u001B[39;00m\n\u001B[1;32m     12\u001B[0m \u001B[38;5;66;03m# construct dataset\u001B[39;00m\n\u001B[1;32m     13\u001B[0m train_set \u001B[38;5;241m=\u001B[39m CIFAR10(\n\u001B[1;32m     14\u001B[0m     root\u001B[38;5;241m=\u001B[39mDATA_ROOT, \n\u001B[1;32m     15\u001B[0m     mode\u001B[38;5;241m=\u001B[39m\u001B[38;5;124m'\u001B[39m\u001B[38;5;124mtrain\u001B[39m\u001B[38;5;124m'\u001B[39m, \n\u001B[1;32m     16\u001B[0m     download\u001B[38;5;241m=\u001B[39m\u001B[38;5;28;01mTrue\u001B[39;00m,\n\u001B[0;32m---> 17\u001B[0m     transform\u001B[38;5;241m=\u001B[39m\u001B[43mtransform_train\u001B[49m    \u001B[38;5;66;03m# your code\u001B[39;00m\n\u001B[1;32m     18\u001B[0m )\n\u001B[1;32m     19\u001B[0m val_set \u001B[38;5;241m=\u001B[39m CIFAR10(\n\u001B[1;32m     20\u001B[0m     root\u001B[38;5;241m=\u001B[39mDATA_ROOT, \n\u001B[1;32m     21\u001B[0m     mode\u001B[38;5;241m=\u001B[39m\u001B[38;5;124m'\u001B[39m\u001B[38;5;124mval\u001B[39m\u001B[38;5;124m'\u001B[39m, \n\u001B[1;32m     22\u001B[0m     download\u001B[38;5;241m=\u001B[39m\u001B[38;5;28;01mTrue\u001B[39;00m,\n\u001B[1;32m     23\u001B[0m     transform\u001B[38;5;241m=\u001B[39mtransform_val    \u001B[38;5;66;03m# your code\u001B[39;00m\n\u001B[1;32m     24\u001B[0m )\n\u001B[1;32m     26\u001B[0m \u001B[38;5;66;03m# construct dataloader\u001B[39;00m\n",
      "\u001B[0;31mNameError\u001B[0m: name 'transform_train' is not defined"
     ]
    }
   ],
   "execution_count": 9
  },
  {
   "cell_type": "markdown",
   "metadata": {},
   "source": [
    "## Step 3: Instantiate your SimpleNN model and deploy it to GPU devices.\n",
    "### Question (d)\n",
    "You may want to deploy your model to GPU device for efficient training. Please assign your model to GPU if possible. If you are training on a machine without GPUs, please deploy your model to CPUs.\n",
    "\n",
    "Here, you need to:\n",
    "1. Complete the code below.\n",
    "2. **In the PDF report**, briefly describe how you verify that your model is indeed deployed on GPU. (Hint: check $\\texttt{nvidia-smi}$.)"
   ]
  },
  {
   "cell_type": "code",
   "execution_count": null,
   "metadata": {},
   "outputs": [],
   "source": [
    "# specify the device for computation\n",
    "#############################################\n",
    "# your code here\n",
    "\n",
    "    \n",
    "#############################################"
   ]
  },
  {
   "cell_type": "markdown",
   "metadata": {},
   "source": [
    "## Step 4: Set up the loss function and optimizer\n",
    "Loss function/objective function is used to provide \"feedback\" for the neural networks. Typically, we use multi-class cross-entropy as the loss function for classification models. As for the optimizer, we will use SGD with momentum. "
   ]
  },
  {
   "cell_type": "markdown",
   "metadata": {},
   "source": [
    "### Question (e)\n",
    "Here, you need to:\n",
    "1. Set up the cross-entropy loss as the criterion. (Hint: there are implemented functions in **torch.nn**)\n",
    "2. Specify a SGD optimizer with momentum. (Hint: there are implemented functions in **torch.optim**)"
   ]
  },
  {
   "cell_type": "code",
   "execution_count": null,
   "metadata": {},
   "outputs": [],
   "source": [
    "import torch.nn as nn\n",
    "import torch.optim as optim\n",
    "\n",
    "# hyperparameters, do NOT change right now\n",
    "# initial learning rate\n",
    "INITIAL_LR = 0.01\n",
    "\n",
    "# momentum for optimizer\n",
    "MOMENTUM = 0.9\n",
    "\n",
    "# L2 regularization strength\n",
    "REG = 1e-4\n",
    "\n",
    "#############################################\n",
    "# your code here\n",
    "# create loss function\n",
    "criterion = \n",
    "\n",
    "# Add optimizer\n",
    "optimizer = \n",
    "#############################################"
   ]
  },
  {
   "cell_type": "markdown",
   "metadata": {},
   "source": [
    "## Step 5: Start the training process.\n",
    "\n",
    "### Question (f)/(g)\n",
    "Congratulations! You have completed all of the previous steps and it is time to train our neural network.\n",
    "\n",
    "Here you need to:\n",
    "1. Complete the training codes.\n",
    "2. Actually perform the training.\n",
    "\n",
    "Hint: Training a neural network usually repeats the following 4 steps: \n",
    "\n",
    "**i) Get a batch of data from the dataloader and copy it to your device (GPU).**\n",
    "\n",
    "**ii) Do a forward pass to get the outputs from the neural network and compute the loss. Be careful about your inputs to the loss function. Are the inputs required to be the logits or softmax probabilities?)**\n",
    "\n",
    "**iii) Do a backward pass (back-propagation) to compute gradients of all weights with respect to the loss.**\n",
    "\n",
    "**iiii) Update the model weights with the optimizer.**\n",
    "\n",
    "You will also need to compute the accuracy of training/validation samples to track your model's performance over each epoch (the accuracy should be increasing as you train for more and more epochs).\n"
   ]
  },
  {
   "cell_type": "code",
   "execution_count": null,
   "metadata": {},
   "outputs": [],
   "source": [
    "# some hyperparameters\n",
    "# total number of training epochs\n",
    "EPOCHS = 30\n",
    "\n",
    "# the folder where the trained model is saved\n",
    "CHECKPOINT_FOLDER = \"./saved_model\"\n",
    "\n",
    "# start the training/validation process\n",
    "# the process should take about 5 minutes on a GTX 1070-Ti\n",
    "# if the code is written efficiently.\n",
    "best_val_acc = 0\n",
    "current_learning_rate = INITIAL_LR\n",
    "\n",
    "print(\"==> Training starts!\")\n",
    "print(\"=\"*50)\n",
    "for i in range(0, EPOCHS):    \n",
    "    #######################\n",
    "    # your code here\n",
    "    # switch to train mode\n",
    "    \n",
    "    \n",
    "    #######################\n",
    "    \n",
    "    print(\"Epoch %d:\" %i)\n",
    "    # this help you compute the training accuracy\n",
    "    total_examples = 0\n",
    "    correct_examples = 0\n",
    "\n",
    "    train_loss = 0 # track training loss if you want\n",
    "    \n",
    "    # Train the model for 1 epoch.\n",
    "    for batch_idx, (inputs, targets) in enumerate(train_loader):\n",
    "        ####################################\n",
    "        # your code here\n",
    "        # copy inputs to device\n",
    "        \n",
    "        \n",
    "        # compute the output and loss\n",
    "        \n",
    "        \n",
    "        # zero the gradient\n",
    "        \n",
    "        \n",
    "        # backpropagation\n",
    "        \n",
    "        \n",
    "        # apply gradient and update the weights\n",
    "        \n",
    "        \n",
    "        # count the number of correctly predicted samples in the current batch\n",
    "        \n",
    "        ####################################\n",
    "                \n",
    "    avg_loss = train_loss / len(train_loader)\n",
    "    avg_acc = correct_examples / total_examples\n",
    "    print(\"Training loss: %.4f, Training accuracy: %.4f\" %(avg_loss, avg_acc))\n",
    "\n",
    "    # Validate on the validation dataset\n",
    "    #######################\n",
    "    # your code here\n",
    "    # switch to eval mode\n",
    "    \n",
    "    \n",
    "    #######################\n",
    "\n",
    "    # this help you compute the validation accuracy\n",
    "    total_examples = 0\n",
    "    correct_examples = 0\n",
    "    \n",
    "    val_loss = 0 # again, track the validation loss if you want\n",
    "\n",
    "    # disable gradient during validation, which can save GPU memory\n",
    "    with torch.no_grad():\n",
    "        for batch_idx, (inputs, targets) in enumerate(val_loader):\n",
    "            ####################################\n",
    "            # your code here\n",
    "            # copy inputs to device\n",
    "            \n",
    "            \n",
    "            # compute the output and loss\n",
    "            \n",
    "            \n",
    "            # count the number of correctly predicted samples in the current batch\n",
    "            \n",
    "            ####################################\n",
    "\n",
    "    avg_loss = val_loss / len(val_loader)\n",
    "    avg_acc = correct_examples / total_examples\n",
    "    print(\"Validation loss: %.4f, Validation accuracy: %.4f\" % (avg_loss, avg_acc))\n",
    "    \n",
    "    # save the model checkpoint\n",
    "    if avg_acc > best_val_acc:\n",
    "        best_val_acc = avg_acc\n",
    "        #if not os.path.exists(CHECKPOINT_FOLDER):\n",
    "        #    os.makedirs(CHECKPOINT_FOLDER)\n",
    "        #print(\"Saving ...\")\n",
    "        #state = {'state_dict': net.state_dict(),\n",
    "        #         'epoch': i,\n",
    "        #         'lr': current_learning_rate}\n",
    "        #torch.save(state, os.path.join(CHECKPOINT_FOLDER, 'simplenn.pth'))\n",
    "        \n",
    "    print('')\n",
    "\n",
    "print(\"=\"*50)\n",
    "print(f\"==> Optimization finished! Best validation accuracy: {best_val_acc:.4f}\")"
   ]
  },
  {
   "cell_type": "markdown",
   "metadata": {},
   "source": [
    "# Bonus: with learning rate decay\n",
    "\n",
    "The following code can help you adjust the learning rate during training. You need to figure out how to incorporate this code into your training loop.\n",
    "```python\n",
    "    if i % DECAY_EPOCHS == 0 and i != 0:\n",
    "        current_learning_rate = current_learning_rate * DECAY\n",
    "        for param_group in optimizer.param_groups:\n",
    "            param_group['lr'] = current_learning_rate\n",
    "        print(\"Current learning rate has decayed to %f\" %current_learning_rate)\n",
    "```"
   ]
  },
  {
   "cell_type": "code",
   "execution_count": null,
   "metadata": {},
   "outputs": [],
   "source": []
  }
 ],
 "metadata": {
  "kernelspec": {
   "display_name": "Python 3 (ipykernel)",
   "language": "python",
   "name": "python3"
  },
  "language_info": {
   "codemirror_mode": {
    "name": "ipython",
    "version": 3
   },
   "file_extension": ".py",
   "mimetype": "text/x-python",
   "name": "python",
   "nbconvert_exporter": "python",
   "pygments_lexer": "ipython3",
   "version": "3.8.12"
  }
 },
 "nbformat": 4,
 "nbformat_minor": 4
}
